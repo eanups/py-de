{
 "cells": [
  {
   "cell_type": "code",
   "execution_count": 1,
   "metadata": {
    "collapsed": true,
    "pycharm": {
     "is_executing": false
    }
   },
   "outputs": [],
   "source": [
    "import pandas as pd\n",
    "retail_df = pd.read_csv('/Users/anup.sethuram/DEV/MGIT/py-de/plant/resources/online-retail-dataset.csv')\n"
   ]
  },
  {
   "cell_type": "code",
   "execution_count": 2,
   "outputs": [
    {
     "data": {
      "text/plain": "            Quantity      UnitPrice     CustomerID\ncount  541909.000000  541909.000000  406829.000000\nmean        9.552250       4.611114   15287.690570\nstd       218.081158      96.759853    1713.600303\nmin    -80995.000000  -11062.060000   12346.000000\n25%         1.000000       1.250000   13953.000000\n50%         3.000000       2.080000   15152.000000\n75%        10.000000       4.130000   16791.000000\nmax     80995.000000   38970.000000   18287.000000",
      "text/html": "<div>\n<style scoped>\n    .dataframe tbody tr th:only-of-type {\n        vertical-align: middle;\n    }\n\n    .dataframe tbody tr th {\n        vertical-align: top;\n    }\n\n    .dataframe thead th {\n        text-align: right;\n    }\n</style>\n<table border=\"1\" class=\"dataframe\">\n  <thead>\n    <tr style=\"text-align: right;\">\n      <th></th>\n      <th>Quantity</th>\n      <th>UnitPrice</th>\n      <th>CustomerID</th>\n    </tr>\n  </thead>\n  <tbody>\n    <tr>\n      <th>count</th>\n      <td>541909.000000</td>\n      <td>541909.000000</td>\n      <td>406829.000000</td>\n    </tr>\n    <tr>\n      <th>mean</th>\n      <td>9.552250</td>\n      <td>4.611114</td>\n      <td>15287.690570</td>\n    </tr>\n    <tr>\n      <th>std</th>\n      <td>218.081158</td>\n      <td>96.759853</td>\n      <td>1713.600303</td>\n    </tr>\n    <tr>\n      <th>min</th>\n      <td>-80995.000000</td>\n      <td>-11062.060000</td>\n      <td>12346.000000</td>\n    </tr>\n    <tr>\n      <th>25%</th>\n      <td>1.000000</td>\n      <td>1.250000</td>\n      <td>13953.000000</td>\n    </tr>\n    <tr>\n      <th>50%</th>\n      <td>3.000000</td>\n      <td>2.080000</td>\n      <td>15152.000000</td>\n    </tr>\n    <tr>\n      <th>75%</th>\n      <td>10.000000</td>\n      <td>4.130000</td>\n      <td>16791.000000</td>\n    </tr>\n    <tr>\n      <th>max</th>\n      <td>80995.000000</td>\n      <td>38970.000000</td>\n      <td>18287.000000</td>\n    </tr>\n  </tbody>\n</table>\n</div>"
     },
     "metadata": {},
     "output_type": "execute_result",
     "execution_count": 2
    }
   ],
   "source": [
    "retail_df.describe()\n",
    "\n"
   ],
   "metadata": {
    "collapsed": false,
    "pycharm": {
     "name": "#%%\n",
     "is_executing": false
    }
   }
  },
  {
   "cell_type": "code",
   "execution_count": 3,
   "outputs": [
    {
     "data": {
      "text/plain": "Index(['InvoiceNo', 'StockCode', 'Description', 'Quantity', 'InvoiceDate',\n       'UnitPrice', 'CustomerID', 'Country'],\n      dtype='object')"
     },
     "metadata": {},
     "output_type": "execute_result",
     "execution_count": 3
    }
   ],
   "source": [
    "retail_df.columns\n",
    "\n"
   ],
   "metadata": {
    "collapsed": false,
    "pycharm": {
     "name": "#%%\n",
     "is_executing": false
    }
   }
  },
  {
   "cell_type": "code",
   "execution_count": 4,
   "outputs": [
    {
     "data": {
      "text/plain": "                      InvoiceNo  StockCode  Description  Quantity  \\\nCountry                                                             \nAustralia                  1259       1259         1259      1259   \nAustria                     401        401          401       401   \nBahrain                      19         19           19        19   \nBelgium                    2069       2069         2069      2069   \nBrazil                       32         32           32        32   \nCanada                      151        151          151       151   \nChannel Islands             758        758          758       758   \nCyprus                      622        622          622       622   \nCzech Republic               30         30           30        30   \nDenmark                     389        389          389       389   \nEIRE                       8196       8196         8196      8196   \nEuropean Community           61         61           61        61   \nFinland                     695        695          695       695   \nFrance                     8557       8557         8557      8557   \nGermany                    9495       9495         9495      9495   \nGreece                      146        146          146       146   \nHong Kong                   288        288          288       288   \nIceland                     182        182          182       182   \nIsrael                      297        297          297       297   \nItaly                       803        803          803       803   \nJapan                       358        358          358       358   \nLebanon                      45         45           45        45   \nLithuania                    35         35           35        35   \nMalta                       127        127          127       127   \nNetherlands                2371       2371         2371      2371   \nNorway                     1086       1086         1086      1086   \nPoland                      341        341          341       341   \nPortugal                   1519       1519         1519      1519   \nRSA                          58         58           58        58   \nSaudi Arabia                 10         10           10        10   \nSingapore                   229        229          229       229   \nSpain                      2533       2533         2533      2533   \nSweden                      462        462          462       462   \nSwitzerland                2002       2002         2002      2002   \nUSA                         291        291          291       291   \nUnited Arab Emirates         68         68           68        68   \nUnited Kingdom           495478     495478       494024    495478   \nUnspecified                 446        446          446       446   \n\n                      InvoiceDate  UnitPrice  CustomerID  \nCountry                                                   \nAustralia                    1259       1259        1259  \nAustria                       401        401         401  \nBahrain                        19         19          17  \nBelgium                      2069       2069        2069  \nBrazil                         32         32          32  \nCanada                        151        151         151  \nChannel Islands               758        758         758  \nCyprus                        622        622         622  \nCzech Republic                 30         30          30  \nDenmark                       389        389         389  \nEIRE                         8196       8196        7485  \nEuropean Community             61         61          61  \nFinland                       695        695         695  \nFrance                       8557       8557        8491  \nGermany                      9495       9495        9495  \nGreece                        146        146         146  \nHong Kong                     288        288           0  \nIceland                       182        182         182  \nIsrael                        297        297         250  \nItaly                         803        803         803  \nJapan                         358        358         358  \nLebanon                        45         45          45  \nLithuania                      35         35          35  \nMalta                         127        127         127  \nNetherlands                  2371       2371        2371  \nNorway                       1086       1086        1086  \nPoland                        341        341         341  \nPortugal                     1519       1519        1480  \nRSA                            58         58          58  \nSaudi Arabia                   10         10          10  \nSingapore                     229        229         229  \nSpain                        2533       2533        2533  \nSweden                        462        462         462  \nSwitzerland                  2002       2002        1877  \nUSA                           291        291         291  \nUnited Arab Emirates           68         68          68  \nUnited Kingdom             495478     495478      361878  \nUnspecified                   446        446         244  ",
      "text/html": "<div>\n<style scoped>\n    .dataframe tbody tr th:only-of-type {\n        vertical-align: middle;\n    }\n\n    .dataframe tbody tr th {\n        vertical-align: top;\n    }\n\n    .dataframe thead th {\n        text-align: right;\n    }\n</style>\n<table border=\"1\" class=\"dataframe\">\n  <thead>\n    <tr style=\"text-align: right;\">\n      <th></th>\n      <th>InvoiceNo</th>\n      <th>StockCode</th>\n      <th>Description</th>\n      <th>Quantity</th>\n      <th>InvoiceDate</th>\n      <th>UnitPrice</th>\n      <th>CustomerID</th>\n    </tr>\n    <tr>\n      <th>Country</th>\n      <th></th>\n      <th></th>\n      <th></th>\n      <th></th>\n      <th></th>\n      <th></th>\n      <th></th>\n    </tr>\n  </thead>\n  <tbody>\n    <tr>\n      <th>Australia</th>\n      <td>1259</td>\n      <td>1259</td>\n      <td>1259</td>\n      <td>1259</td>\n      <td>1259</td>\n      <td>1259</td>\n      <td>1259</td>\n    </tr>\n    <tr>\n      <th>Austria</th>\n      <td>401</td>\n      <td>401</td>\n      <td>401</td>\n      <td>401</td>\n      <td>401</td>\n      <td>401</td>\n      <td>401</td>\n    </tr>\n    <tr>\n      <th>Bahrain</th>\n      <td>19</td>\n      <td>19</td>\n      <td>19</td>\n      <td>19</td>\n      <td>19</td>\n      <td>19</td>\n      <td>17</td>\n    </tr>\n    <tr>\n      <th>Belgium</th>\n      <td>2069</td>\n      <td>2069</td>\n      <td>2069</td>\n      <td>2069</td>\n      <td>2069</td>\n      <td>2069</td>\n      <td>2069</td>\n    </tr>\n    <tr>\n      <th>Brazil</th>\n      <td>32</td>\n      <td>32</td>\n      <td>32</td>\n      <td>32</td>\n      <td>32</td>\n      <td>32</td>\n      <td>32</td>\n    </tr>\n    <tr>\n      <th>Canada</th>\n      <td>151</td>\n      <td>151</td>\n      <td>151</td>\n      <td>151</td>\n      <td>151</td>\n      <td>151</td>\n      <td>151</td>\n    </tr>\n    <tr>\n      <th>Channel Islands</th>\n      <td>758</td>\n      <td>758</td>\n      <td>758</td>\n      <td>758</td>\n      <td>758</td>\n      <td>758</td>\n      <td>758</td>\n    </tr>\n    <tr>\n      <th>Cyprus</th>\n      <td>622</td>\n      <td>622</td>\n      <td>622</td>\n      <td>622</td>\n      <td>622</td>\n      <td>622</td>\n      <td>622</td>\n    </tr>\n    <tr>\n      <th>Czech Republic</th>\n      <td>30</td>\n      <td>30</td>\n      <td>30</td>\n      <td>30</td>\n      <td>30</td>\n      <td>30</td>\n      <td>30</td>\n    </tr>\n    <tr>\n      <th>Denmark</th>\n      <td>389</td>\n      <td>389</td>\n      <td>389</td>\n      <td>389</td>\n      <td>389</td>\n      <td>389</td>\n      <td>389</td>\n    </tr>\n    <tr>\n      <th>EIRE</th>\n      <td>8196</td>\n      <td>8196</td>\n      <td>8196</td>\n      <td>8196</td>\n      <td>8196</td>\n      <td>8196</td>\n      <td>7485</td>\n    </tr>\n    <tr>\n      <th>European Community</th>\n      <td>61</td>\n      <td>61</td>\n      <td>61</td>\n      <td>61</td>\n      <td>61</td>\n      <td>61</td>\n      <td>61</td>\n    </tr>\n    <tr>\n      <th>Finland</th>\n      <td>695</td>\n      <td>695</td>\n      <td>695</td>\n      <td>695</td>\n      <td>695</td>\n      <td>695</td>\n      <td>695</td>\n    </tr>\n    <tr>\n      <th>France</th>\n      <td>8557</td>\n      <td>8557</td>\n      <td>8557</td>\n      <td>8557</td>\n      <td>8557</td>\n      <td>8557</td>\n      <td>8491</td>\n    </tr>\n    <tr>\n      <th>Germany</th>\n      <td>9495</td>\n      <td>9495</td>\n      <td>9495</td>\n      <td>9495</td>\n      <td>9495</td>\n      <td>9495</td>\n      <td>9495</td>\n    </tr>\n    <tr>\n      <th>Greece</th>\n      <td>146</td>\n      <td>146</td>\n      <td>146</td>\n      <td>146</td>\n      <td>146</td>\n      <td>146</td>\n      <td>146</td>\n    </tr>\n    <tr>\n      <th>Hong Kong</th>\n      <td>288</td>\n      <td>288</td>\n      <td>288</td>\n      <td>288</td>\n      <td>288</td>\n      <td>288</td>\n      <td>0</td>\n    </tr>\n    <tr>\n      <th>Iceland</th>\n      <td>182</td>\n      <td>182</td>\n      <td>182</td>\n      <td>182</td>\n      <td>182</td>\n      <td>182</td>\n      <td>182</td>\n    </tr>\n    <tr>\n      <th>Israel</th>\n      <td>297</td>\n      <td>297</td>\n      <td>297</td>\n      <td>297</td>\n      <td>297</td>\n      <td>297</td>\n      <td>250</td>\n    </tr>\n    <tr>\n      <th>Italy</th>\n      <td>803</td>\n      <td>803</td>\n      <td>803</td>\n      <td>803</td>\n      <td>803</td>\n      <td>803</td>\n      <td>803</td>\n    </tr>\n    <tr>\n      <th>Japan</th>\n      <td>358</td>\n      <td>358</td>\n      <td>358</td>\n      <td>358</td>\n      <td>358</td>\n      <td>358</td>\n      <td>358</td>\n    </tr>\n    <tr>\n      <th>Lebanon</th>\n      <td>45</td>\n      <td>45</td>\n      <td>45</td>\n      <td>45</td>\n      <td>45</td>\n      <td>45</td>\n      <td>45</td>\n    </tr>\n    <tr>\n      <th>Lithuania</th>\n      <td>35</td>\n      <td>35</td>\n      <td>35</td>\n      <td>35</td>\n      <td>35</td>\n      <td>35</td>\n      <td>35</td>\n    </tr>\n    <tr>\n      <th>Malta</th>\n      <td>127</td>\n      <td>127</td>\n      <td>127</td>\n      <td>127</td>\n      <td>127</td>\n      <td>127</td>\n      <td>127</td>\n    </tr>\n    <tr>\n      <th>Netherlands</th>\n      <td>2371</td>\n      <td>2371</td>\n      <td>2371</td>\n      <td>2371</td>\n      <td>2371</td>\n      <td>2371</td>\n      <td>2371</td>\n    </tr>\n    <tr>\n      <th>Norway</th>\n      <td>1086</td>\n      <td>1086</td>\n      <td>1086</td>\n      <td>1086</td>\n      <td>1086</td>\n      <td>1086</td>\n      <td>1086</td>\n    </tr>\n    <tr>\n      <th>Poland</th>\n      <td>341</td>\n      <td>341</td>\n      <td>341</td>\n      <td>341</td>\n      <td>341</td>\n      <td>341</td>\n      <td>341</td>\n    </tr>\n    <tr>\n      <th>Portugal</th>\n      <td>1519</td>\n      <td>1519</td>\n      <td>1519</td>\n      <td>1519</td>\n      <td>1519</td>\n      <td>1519</td>\n      <td>1480</td>\n    </tr>\n    <tr>\n      <th>RSA</th>\n      <td>58</td>\n      <td>58</td>\n      <td>58</td>\n      <td>58</td>\n      <td>58</td>\n      <td>58</td>\n      <td>58</td>\n    </tr>\n    <tr>\n      <th>Saudi Arabia</th>\n      <td>10</td>\n      <td>10</td>\n      <td>10</td>\n      <td>10</td>\n      <td>10</td>\n      <td>10</td>\n      <td>10</td>\n    </tr>\n    <tr>\n      <th>Singapore</th>\n      <td>229</td>\n      <td>229</td>\n      <td>229</td>\n      <td>229</td>\n      <td>229</td>\n      <td>229</td>\n      <td>229</td>\n    </tr>\n    <tr>\n      <th>Spain</th>\n      <td>2533</td>\n      <td>2533</td>\n      <td>2533</td>\n      <td>2533</td>\n      <td>2533</td>\n      <td>2533</td>\n      <td>2533</td>\n    </tr>\n    <tr>\n      <th>Sweden</th>\n      <td>462</td>\n      <td>462</td>\n      <td>462</td>\n      <td>462</td>\n      <td>462</td>\n      <td>462</td>\n      <td>462</td>\n    </tr>\n    <tr>\n      <th>Switzerland</th>\n      <td>2002</td>\n      <td>2002</td>\n      <td>2002</td>\n      <td>2002</td>\n      <td>2002</td>\n      <td>2002</td>\n      <td>1877</td>\n    </tr>\n    <tr>\n      <th>USA</th>\n      <td>291</td>\n      <td>291</td>\n      <td>291</td>\n      <td>291</td>\n      <td>291</td>\n      <td>291</td>\n      <td>291</td>\n    </tr>\n    <tr>\n      <th>United Arab Emirates</th>\n      <td>68</td>\n      <td>68</td>\n      <td>68</td>\n      <td>68</td>\n      <td>68</td>\n      <td>68</td>\n      <td>68</td>\n    </tr>\n    <tr>\n      <th>United Kingdom</th>\n      <td>495478</td>\n      <td>495478</td>\n      <td>494024</td>\n      <td>495478</td>\n      <td>495478</td>\n      <td>495478</td>\n      <td>361878</td>\n    </tr>\n    <tr>\n      <th>Unspecified</th>\n      <td>446</td>\n      <td>446</td>\n      <td>446</td>\n      <td>446</td>\n      <td>446</td>\n      <td>446</td>\n      <td>244</td>\n    </tr>\n  </tbody>\n</table>\n</div>"
     },
     "metadata": {},
     "output_type": "execute_result",
     "execution_count": 4
    }
   ],
   "source": [
    "retail_df.groupby(['Country']).count()\n"
   ],
   "metadata": {
    "collapsed": false,
    "pycharm": {
     "name": "#%%\n",
     "is_executing": false
    }
   }
  },
  {
   "cell_type": "code",
   "execution_count": 5,
   "outputs": [],
   "source": [
    "spain_df = retail_df[retail_df['Country'] == 'Spain']\n",
    "spain_df.to_csv(path_or_buf=\"/Users/anup.sethuram/DEV/MGIT/py-de/plant/resources/retail-spain.csv\", header=False)"
   ],
   "metadata": {
    "collapsed": false,
    "pycharm": {
     "name": "#%%\n",
     "is_executing": false
    }
   }
  },
  {
   "cell_type": "code",
   "execution_count": 6,
   "outputs": [],
   "source": [
    "au_df = retail_df[retail_df['Country'] == 'Australia']\n",
    "au_df.to_csv(path_or_buf=\"/Users/anup.sethuram/DEV/MGIT/py-de/plant/resources/retail-au.csv\", header=False)"
   ],
   "metadata": {
    "collapsed": false,
    "pycharm": {
     "name": "#%%\n",
     "is_executing": false
    }
   }
  },
  {
   "cell_type": "code",
   "execution_count": 7,
   "outputs": [],
   "source": [
    "\n",
    "us_df = retail_df[retail_df['Country'] == 'USA']\n",
    "us_df.to_csv(path_or_buf=\"/Users/anup.sethuram/DEV/MGIT/py-de/plant/resources/retail-us.csv\", header=False)"
   ],
   "metadata": {
    "collapsed": false,
    "pycharm": {
     "name": "#%%\n",
     "is_executing": false
    }
   }
  },
  {
   "cell_type": "code",
   "execution_count": 8,
   "outputs": [],
   "source": [
    "none_df = retail_df[retail_df['Country'] == 'Unspecified']\n",
    "none_df.to_csv(path_or_buf=\"/Users/anup.sethuram/DEV/MGIT/py-de/plant/resources/retail-none.csv\", header=False)\n"
   ],
   "metadata": {
    "collapsed": false,
    "pycharm": {
     "name": "#%%\n",
     "is_executing": false
    }
   }
  },
  {
   "cell_type": "code",
   "execution_count": 8,
   "outputs": [],
   "source": [
    "\n"
   ],
   "metadata": {
    "collapsed": false,
    "pycharm": {
     "name": "#%%\n",
     "is_executing": false
    }
   }
  }
 ],
 "metadata": {
  "language_info": {
   "codemirror_mode": {
    "name": "ipython",
    "version": 2
   },
   "file_extension": ".py",
   "mimetype": "text/x-python",
   "name": "python",
   "nbconvert_exporter": "python",
   "pygments_lexer": "ipython2",
   "version": "2.7.6"
  },
  "kernelspec": {
   "name": "python3",
   "language": "python",
   "display_name": "Python 3"
  },
  "pycharm": {
   "stem_cell": {
    "cell_type": "raw",
    "source": [],
    "metadata": {
     "collapsed": false
    }
   }
  }
 },
 "nbformat": 4,
 "nbformat_minor": 0
}